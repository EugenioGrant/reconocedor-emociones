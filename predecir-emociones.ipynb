{
 "cells": [
  {
   "cell_type": "markdown",
   "metadata": {},
   "source": [
    "<img src=\"http://cailab.appspot.com/images/logo.png\" />"
   ]
  },
  {
   "cell_type": "code",
   "execution_count": null,
   "metadata": {},
   "outputs": [],
   "source": [
    "import os\n",
    "import matplotlib.pyplot as plt\n",
    "import matplotlib.image as mpimg\n",
    "%matplotlib inline"
   ]
  },
  {
   "cell_type": "markdown",
   "metadata": {},
   "source": [
    "### Importar Imagenes de Emociones"
   ]
  },
  {
   "cell_type": "code",
   "execution_count": null,
   "metadata": {},
   "outputs": [],
   "source": [
    "ira_dir = os.path.join('CK/anger')\n",
    "contento_dir = os.path.join('CK/contempt')\n",
    "disgusto_dir = os.path.join('CK/disgust')\n",
    "miedo_dir = os.path.join('CK/fear')\n",
    "feliz_dir = os.path.join('CK/happy')\n",
    "tristeza_dir = os.path.join('CK/sadness')\n",
    "sorpresa_dir = os.path.join('CK/surprise')\n",
    "\n",
    "ira_archivos = os.listdir(ira_dir)\n",
    "contento_archivos = os.listdir(contento_dir)\n",
    "disgusto_archivos = os.listdir(disgusto_dir)\n",
    "miedo_archivos = os.listdir(miedo_dir)\n",
    "feliz_archivos = os.listdir(feliz_dir)\n",
    "tristeza_archivos = os.listdir(tristeza_dir)\n",
    "sorpresa_archivos = os.listdir(sorpresa_dir)"
   ]
  },
  {
   "cell_type": "markdown",
   "metadata": {},
   "source": [
    "### Deplegar 2 Images de DataSet"
   ]
  },
  {
   "cell_type": "code",
   "execution_count": null,
   "metadata": {},
   "outputs": [],
   "source": [
    "total = 2\n",
    "\n",
    "# cargar las rutas de 5 imagenes\n",
    "ira_ejemplos = [os.path.join(ira_dir, nombre) for nombre in ira_files[1:total+1]]\n",
    "\n",
    "# deplegar las 2 imagenes\n",
    "for i, ruta in enumerate(ira_ejemplos):\n",
    "    img = mpimg.imread(ruta)\n",
    "    plt.imshow(img)\n",
    "    plt.axis('Off')\n",
    "    plt.show()"
   ]
  },
  {
   "cell_type": "markdown",
   "metadata": {},
   "source": [
    "### Tensorflow + Keras"
   ]
  },
  {
   "cell_type": "code",
   "execution_count": null,
   "metadata": {},
   "outputs": [],
   "source": [
    "import tensorflow as tf\n",
    "import keras_preprocessing\n",
    "from keras_preprocessing import image\n",
    "from keras_preprocessing.image import ImageDataGenerator\n",
    "\n",
    "import warnings\n",
    "warnings.filterwarnings('ignore')"
   ]
  },
  {
   "cell_type": "markdown",
   "metadata": {},
   "source": [
    "#### Definir la configuracion de entrenamiento"
   ]
  },
  {
   "cell_type": "code",
   "execution_count": null,
   "metadata": {},
   "outputs": [],
   "source": [
    "ENTRENAMIENTO_DIR = \"CK/\"\n",
    "\n",
    "# configuracion de entrenamiento\n",
    "entrenamiento_datagen = ImageDataGenerator(\n",
    "    rescale = 1./255,\n",
    "    rotation_range=40,\n",
    "    width_shift_range=0.2,\n",
    "    height_shift_range=0.2,\n",
    "    shear_range=0.2,\n",
    "    zoom_range=0.2,\n",
    "    horizontal_flip=True,\n",
    "    fill_mode='nearest')\n",
    "\n",
    "# generador\n",
    "generador_entrenamiento = entrenamiento_datagen.flow_from_directory(\n",
    "    ENTRENAMIENTO_DIR,\n",
    "    target_size=(48,48),\n",
    "    class_mode='categorical'\n",
    ")"
   ]
  },
  {
   "cell_type": "markdown",
   "metadata": {},
   "source": [
    "#### Crear la red neuronal convolutional (modelo)"
   ]
  },
  {
   "cell_type": "code",
   "execution_count": null,
   "metadata": {},
   "outputs": [],
   "source": [
    "# Arquitectura convolucional\n",
    "\n",
    "modelo = tf.keras.models.Sequential([\n",
    "    # primera capa\n",
    "    tf.keras.layers.Conv2D(64, (3,3), activation='relu', input_shape=(48, 48, 3)),\n",
    "    tf.keras.layers.MaxPooling2D(2, 2),\n",
    "    # segunda capa\n",
    "    tf.keras.layers.Conv2D(64, (3,3), activation='relu'),\n",
    "    tf.keras.layers.MaxPooling2D(2,2),\n",
    "    # tercera capa\n",
    "    tf.keras.layers.Conv2D(128, (3,3), activation='relu'),\n",
    "    tf.keras.layers.MaxPooling2D(2,2),\n",
    "    # cuarta capa\n",
    "    tf.keras.layers.Conv2D(128, (3,3), activation='relu'),\n",
    "    tf.keras.layers.MaxPooling2D(2,2),\n",
    "    # Red Neuronal Flat\n",
    "    tf.keras.layers.Flatten(),\n",
    "    tf.keras.layers.Dropout(0.5),\n",
    "    # 512 neuronas ocultas\n",
    "    tf.keras.layers.Dense(512, activation='relu'),\n",
    "    tf.keras.layers.Dense(7, activation='softmax')\n",
    "])\n",
    "\n",
    "# Entrenar el modelo y salvarlo como reconcedor-facial.h5\n",
    "\n",
    "modelo.summary()\n",
    "modelo.compile(loss = 'categorical_crossentropy', optimizer='adamax', metrics=['accuracy'])\n",
    "# entrenar 300 veces el modelo (esto dura un rato. Vaya por cafe!)\n",
    "historia = modelo.fit_generator(generador_entrenamiento, epochs = 300, verbose = 1)\n",
    "modelo.save(\"reconcedor-facial.h5\")"
   ]
  },
  {
   "cell_type": "code",
   "execution_count": null,
   "metadata": {},
   "outputs": [],
   "source": [
    "# Entre mas cercano a 1, mejor es la capacidad predictiva.\n",
    "acc = historia.history['acc']\n",
    "epochs = range(len(acc))\n",
    "\n",
    "plt.plot(epochs, acc, 'r', label='Exactitud de la Predicción')\n",
    "plt.title('Rendimiento')\n",
    "plt.legend(loc=0)\n",
    "plt.figure()\n",
    "\n",
    "plt.show()"
   ]
  },
  {
   "cell_type": "markdown",
   "metadata": {},
   "source": [
    "### Predicción de Emociones"
   ]
  },
  {
   "cell_type": "code",
   "execution_count": null,
   "metadata": {},
   "outputs": [],
   "source": [
    "# cargamos el modelo desde el archivo\n",
    "# para no tener que entrenarlo cada vez\n",
    "\n",
    "from keras.preprocessing import image\n",
    "import numpy as np\n",
    "\n",
    "modelo = tf.keras.models.load_model('reconcedor-facial.h5')"
   ]
  },
  {
   "cell_type": "code",
   "execution_count": null,
   "metadata": {},
   "outputs": [],
   "source": [
    "# prediccion\n",
    "\n",
    "# classes\n",
    "etiquetas = ['ira','contento','disgusto','miedo','feliz','tristeza','sorpresa']\n",
    "archivo = feliz_dir + '/' + feliz_archivos[30]\n",
    "\n",
    "img = image.load_img(archivo, target_size=(48, 48))\n",
    "x = image.img_to_array(img)\n",
    "x = np.expand_dims(x, axis=0)\n",
    "\n",
    "imagenes = np.vstack([x])\n",
    "clases = modelo.predict(imagenes, batch_size=1)\n",
    "indice = clases.tolist()[0].index(1.0)\n",
    "\n",
    "img = mpimg.imread(archivo)\n",
    "plt.imshow(img)\n",
    "plt.axis('Off')\n",
    "plt.show()\n",
    "\n",
    "print(\"Emocion estimada:\", etiquetas[indice],\"!\")"
   ]
  },
  {
   "cell_type": "code",
   "execution_count": null,
   "metadata": {},
   "outputs": [],
   "source": []
  }
 ],
 "metadata": {
  "kernelspec": {
   "display_name": "Python 3",
   "language": "python",
   "name": "python3"
  },
  "language_info": {
   "codemirror_mode": {
    "name": "ipython",
    "version": 3
   },
   "file_extension": ".py",
   "mimetype": "text/x-python",
   "name": "python",
   "nbconvert_exporter": "python",
   "pygments_lexer": "ipython3",
   "version": "3.6.9"
  }
 },
 "nbformat": 4,
 "nbformat_minor": 2
}
